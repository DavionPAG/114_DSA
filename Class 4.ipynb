{
 "cells": [
  {
   "cell_type": "code",
   "execution_count": 1,
   "id": "99016ce1",
   "metadata": {},
   "outputs": [
    {
     "data": {
      "text/plain": [
       "1307674368000"
      ]
     },
     "execution_count": 1,
     "metadata": {},
     "output_type": "execute_result"
    }
   ],
   "source": [
    "#Recurse\n",
    "\n",
    "def fact(n):\n",
    "    if n == 0:\n",
    "        return 1\n",
    "\n",
    "    return n*fact(n-1)\n",
    "\n",
    "fact(15)\n",
    "    "
   ]
  },
  {
   "cell_type": "code",
   "execution_count": 4,
   "id": "dadff06f",
   "metadata": {},
   "outputs": [
    {
     "data": {
      "text/plain": [
       "6765"
      ]
     },
     "execution_count": 4,
     "metadata": {},
     "output_type": "execute_result"
    }
   ],
   "source": [
    "def fib(n):\n",
    "    if n < 2:\n",
    "        return n\n",
    "    return fib(n - 1) + fib(n - 2)\n",
    "\n",
    "fib(20) \n",
    "\n",
    "\n",
    "def my_fib(n):\n",
    "    "
   ]
  },
  {
   "cell_type": "code",
   "execution_count": 2,
   "id": "8b595f48",
   "metadata": {},
   "outputs": [],
   "source": [
    "class HashTable:\n",
    "    def __init__(self, size):\n",
    "        self.size = size\n",
    "        self.slots = [None] * self.size\n",
    "        self.data = [None] * self.size\n",
    "\n",
    "    def put(self, key, data):\n",
    "        hashvalue = self.hashfunction(key, len(self.slots))\n",
    "        print(\"Storing with hashvalue: %s\" % hashvalue)\n",
    "        if self.slots[hashvalue] == None:\n",
    "            self.slots[hashvalue] = key\n",
    "            self.data[hashvalue] = data\n",
    "            print(\"Stored: %s with key: %s\" % (key, data))\n",
    "        else:\n",
    "            if self.slots[hashvalue] == key:\n",
    "                self.data[hashvalue] = data\n",
    "                print(\"Stored: %s with key: %s\" % (key, data))\n",
    "            else:\n",
    "                nextslot = self.rehash(hashvalue, len(self.slots))\n",
    "                while self.slots[nextslot] != None and self.slots[nextslot] != key:\n",
    "                    nextslot = self.rehash(nextslot, len(self.slots))\n",
    "                if self.slots[nextslot] == None:\n",
    "                    self.slots[nextslot] = key\n",
    "                    self.data[nextslot] = data\n",
    "                    print(\"Stored: %s with key: %s\" % (key, data))\n",
    "                else:\n",
    "                    self.data[nextslot] = data\n",
    "                    print(\"Stored: %s with key: %s\" % (key, data))\n",
    "            \n",
    "            \n",
    "    def hashfunction(self, key, size):\n",
    "        return key%size\n",
    "\n",
    "    def rehash(self, oldhash, size):\n",
    "        return (oldhash+1)%size\n",
    "\n",
    "    def get(self, key):\n",
    "        startslot = self.hashfunction(key, len(self.slots))\n",
    "        data = None\n",
    "        stop = False\n",
    "        found = False\n",
    "        position = startslot\n",
    "        while self.slots[position] != None and not found and not stop:\n",
    "            if self.slots[position] == key:\n",
    "                found = True\n",
    "                data = self.data[position]\n",
    "                print(\"Found key at position: %s with data: %s\" % (position, data))\n",
    "            else:\n",
    "                position = self.rehash(position, len(self.slots))\n",
    "                if position == startslot:\n",
    "                    stop = True\n",
    "        return data\n",
    "\n",
    "    def __getitem__(self, key):\n",
    "        return self.get(key)\n",
    "\n",
    "    def __setitem__(self, key, data):\n",
    "        self.put(key, data)\n",
    "\n",
    "    def print_table(self):\n",
    "        for i in range(self.size):\n",
    "            print(\" %s -> %s\" % (self.slots[i], self.data[i]))"
   ]
  },
  {
   "cell_type": "code",
   "execution_count": null,
   "id": "354a9427",
   "metadata": {},
   "outputs": [],
   "source": [
    "Class Node:\n",
    "    def __init__(self, data):\n",
    "        self.data = data\n",
    "        self.next = None\n",
    "        \n",
    "class SinglyLinkedList:\n",
    "    def __init__(self):\n",
    "        self.head = None\n",
    "\n",
    "    def append(self, value):\n",
    "        current = self.head\n",
    "        if not current:\n",
    "            self.head = Node(value)\n",
    "        else:\n",
    "            while current.next:\n",
    "                current = current.next\n",
    "            current.next = Node(value)\n",
    "\n",
    "    def insert(self, prev_index, value):\n",
    "        if prev_index == 0:\n",
    "            new_node = Node(value)\n",
    "            current_head = self.head\n",
    "            new_node.next = current_head\n",
    "            self.head = new_node\n",
    "        else:\n",
    "            current = self.head\n",
    "            counter = 0\n",
    "            while prev_index != counter and current:\n",
    "                prev_node = current\n",
    "                current = current.next\n",
    "            if prev_index == counter:\n",
    "                prev_node.next = Node(value)\n",
    "                prev_node.next.next = current\n",
    "                \n",
    "\n",
    "    def __str__(self):\n",
    "        current = self.head\n",
    "        out_str = \"[%s\" % current.data\n",
    "        while current.next:\n",
    "            current = current.next\n",
    "            out_str += \", %s\" % current.data\n",
    "        out_str += \"]\"\n",
    "        return out_str"
   ]
  }
 ],
 "metadata": {
  "kernelspec": {
   "display_name": "Python 3 (ipykernel)",
   "language": "python",
   "name": "python3"
  },
  "language_info": {
   "codemirror_mode": {
    "name": "ipython",
    "version": 3
   },
   "file_extension": ".py",
   "mimetype": "text/x-python",
   "name": "python",
   "nbconvert_exporter": "python",
   "pygments_lexer": "ipython3",
   "version": "3.9.9"
  }
 },
 "nbformat": 4,
 "nbformat_minor": 5
}
