{
 "cells": [
  {
   "cell_type": "code",
   "execution_count": 4,
   "id": "813f91d9",
   "metadata": {},
   "outputs": [
    {
     "name": "stdout",
     "output_type": "stream",
     "text": [
      "h\n",
      "e\n",
      "l\n",
      "l\n",
      "o\n",
      " \n",
      "w\n",
      "o\n",
      "r\n",
      "l\n",
      "d\n"
     ]
    }
   ],
   "source": [
    "for letter in 'hello world':\n",
    "    print(letter)\n",
    "    "
   ]
  },
  {
   "cell_type": "code",
   "execution_count": null,
   "id": "ec23092b",
   "metadata": {},
   "outputs": [],
   "source": [
    "# func: str1, st2\n",
    "# compare length of str1 to str2\n",
    "    # if not equal -> end process\n",
    "# esle\n",
    "# set the sorted value of str1 to a variable: x\n",
    "# set the sorted value of str2 to a variable: y\n",
    "# set value of x to lowercase\n",
    "# set value of y to lowercase\n",
    "# if x is equal to y\n",
    "    # return 'strings are anagrams'\n",
    "# else\n",
    "    # 'Strings are not anagrams'\n",
    "\n"
   ]
  },
  {
   "cell_type": "code",
   "execution_count": 13,
   "id": "53b0bffa",
   "metadata": {},
   "outputs": [
    {
     "name": "stdout",
     "output_type": "stream",
     "text": [
      "True\n",
      "True\n"
     ]
    }
   ],
   "source": [
    "def is_anagram(str1, str2):\n",
    "    \n",
    "    str1 = str1.lower().replace(\" \", \"\")\n",
    "    str2 = str2.lower().replace(\" \", \"\")\n",
    "    \n",
    "    if len(str1) != len(str2):\n",
    "        return False\n",
    "    char_times_a = dict()\n",
    "    char_times_b = dict()\n",
    "    for i in range(len(str1)):\n",
    "        if str1[i] not in char_times_a.keys() and str1[i] != ' ':\n",
    "            char_times_a[str1[i]] = 1\n",
    "        else: char_times_a[str1[i]] += 1\n",
    "            \n",
    "        if str2[i] not in char_times_b.keys() and str2[i] != ' ':\n",
    "            char_times_b[str2[i]] = 1\n",
    "        else: char_times_b[str2[i]] += 1\n",
    "            \n",
    "    return char_times_a == char_times_b\n",
    "\n",
    "print(is_anagram('wel', 'lew'))\n",
    "print(is_anagram('I am lord voldemort', 'Tom Marvolo Riddle'))"
   ]
  },
  {
   "cell_type": "code",
   "execution_count": null,
   "id": "216fec82",
   "metadata": {},
   "outputs": [],
   "source": []
  },
  {
   "cell_type": "code",
   "execution_count": null,
   "id": "b37ea695",
   "metadata": {},
   "outputs": [],
   "source": []
  }
 ],
 "metadata": {
  "kernelspec": {
   "display_name": "Python 3 (ipykernel)",
   "language": "python",
   "name": "python3"
  },
  "language_info": {
   "codemirror_mode": {
    "name": "ipython",
    "version": 3
   },
   "file_extension": ".py",
   "mimetype": "text/x-python",
   "name": "python",
   "nbconvert_exporter": "python",
   "pygments_lexer": "ipython3",
   "version": "3.9.9"
  }
 },
 "nbformat": 4,
 "nbformat_minor": 5
}
