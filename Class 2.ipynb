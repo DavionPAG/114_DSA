{
 "cells": [
  {
   "cell_type": "code",
   "execution_count": 23,
   "id": "fd76b2fe",
   "metadata": {},
   "outputs": [
    {
     "name": "stdout",
     "output_type": "stream",
     "text": [
      "edcba\n",
      "edcba\n"
     ]
    }
   ],
   "source": [
    "class Stack:\n",
    "    def __init__(self):\n",
    "        self.items = []\n",
    "        \n",
    "    def is_empty(self):\n",
    "        return self.items == []\n",
    "    \n",
    "    def push(self, item):\n",
    "        self.items.append(item)\n",
    "        \n",
    "    def pop(self):\n",
    "        return self.items.pop()\n",
    "        \n",
    "    def peek(self):\n",
    "        return self.items[len(self.items) - 1]\n",
    "        \n",
    "    def size(self):\n",
    "        return len(self.items)\n",
    "    \n",
    "    \n",
    "charStack = Stack()\n",
    "\n",
    "chars = 'abcde'\n",
    "revChars = ''\n",
    "\n",
    "for i in chars:\n",
    "    charStack.push(i)\n",
    "    \n",
    "while not charStack.is_empty():\n",
    "    revChars += charStack.pop()\n",
    "    \n",
    "print(revChars)\n"
   ]
  },
  {
   "cell_type": "code",
   "execution_count": null,
   "id": "71ae8e2e",
   "metadata": {},
   "outputs": [],
   "source": [
    "class Q:\n",
    "    def __init__(self):\n",
    "        self.items = []\n",
    "        \n",
    "    def is_empty(self):\n",
    "        return self.items == []\n",
    "    \n",
    "    def enQ(self, item):\n",
    "        self.items.insert(0, item)\n",
    "        \n",
    "    def deQ(self):\n",
    "        return self.items.pop()\n",
    "    \n",
    "    def size(self):\n",
    "        return len(self.items)"
   ]
  }
 ],
 "metadata": {
  "kernelspec": {
   "display_name": "Python 3 (ipykernel)",
   "language": "python",
   "name": "python3"
  },
  "language_info": {
   "codemirror_mode": {
    "name": "ipython",
    "version": 3
   },
   "file_extension": ".py",
   "mimetype": "text/x-python",
   "name": "python",
   "nbconvert_exporter": "python",
   "pygments_lexer": "ipython3",
   "version": "3.9.9"
  }
 },
 "nbformat": 4,
 "nbformat_minor": 5
}
