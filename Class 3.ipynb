{
 "cells": [
  {
   "cell_type": "code",
   "execution_count": 8,
   "id": "2037f463",
   "metadata": {},
   "outputs": [
    {
     "name": "stdout",
     "output_type": "stream",
     "text": [
      "(\n",
      "here\n",
      "Unbalanced set\n",
      "Unbalanced set\n",
      "(\n",
      "here\n",
      "Unbalanced set\n"
     ]
    }
   ],
   "source": [
    "# balanced parens check:\n",
    "    # 3 types of brackets\n",
    "    # no spaces\n",
    "    # mirrored at half way point is balanced \n",
    "    # good -> ({[]}) \n",
    "    # bad -> '({(]})'\n",
    "    \n",
    "\n",
    "# func(s)\n",
    "# check if length of 's' is odd\n",
    "    # 'Not balanced'\n",
    "# loop over 's' and add each open peren to a stack\n",
    "\n",
    "class Stack:\n",
    "    def __init__(self):\n",
    "        self.items = []\n",
    "        \n",
    "    def is_empty(self):\n",
    "        return self.items == []\n",
    "    \n",
    "    def push(self, item):\n",
    "        self.items.append(item)\n",
    "        \n",
    "    def pop(self):\n",
    "        return self.items.pop()\n",
    "        \n",
    "    def peek(self):\n",
    "        return self.items[len(self.items) - 1]\n",
    "        \n",
    "    def size(self):\n",
    "        return len(self.items)\n",
    "    \n",
    "    \n",
    "def balance_check(s):\n",
    "    if len(s) % 2 != 0:\n",
    "        return 'Unbalanced set'\n",
    "    else:\n",
    "        \n",
    "        valid_matches = [('()'),('[]'),('{}')]\n",
    "        paren_stack = Stack()\n",
    "    \n",
    "    \n",
    "        for paren in s:\n",
    "            if paren == '{' or '(' or '[':\n",
    "                    paren_stack.push(paren)\n",
    "                    print(paren)\n",
    "\n",
    "            if paren == '}' or ')' or ']':\n",
    "                print('here')\n",
    "                if ((paren_stack.pop() + paren) not in valid_matches):\n",
    "                    return 'Unbalanced set'\n",
    "        \n",
    "    return \"This is a balanced set\"\n",
    "\n",
    "\n",
    "print(balance_check('({[]})'))\n",
    "print(balance_check('({[})'))\n",
    "print(balance_check('({[}})'))"
   ]
  },
  {
   "cell_type": "code",
   "execution_count": null,
   "id": "d729ed77",
   "metadata": {},
   "outputs": [],
   "source": []
  }
 ],
 "metadata": {
  "kernelspec": {
   "display_name": "Python 3 (ipykernel)",
   "language": "python",
   "name": "python3"
  },
  "language_info": {
   "codemirror_mode": {
    "name": "ipython",
    "version": 3
   },
   "file_extension": ".py",
   "mimetype": "text/x-python",
   "name": "python",
   "nbconvert_exporter": "python",
   "pygments_lexer": "ipython3",
   "version": "3.9.9"
  }
 },
 "nbformat": 4,
 "nbformat_minor": 5
}
